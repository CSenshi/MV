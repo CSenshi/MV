{
 "cells": [
  {
   "cell_type": "code",
   "execution_count": 1,
   "metadata": {
    "scrolled": true
   },
   "outputs": [],
   "source": [
    "# add YOLO submodules as modules\n",
    "import sys\n",
    "import pathlib\n",
    "sys.path.append(f\"{pathlib.Path().absolute()}/YOLO\")\n",
    "\n",
    "# import yolo\n",
    "import yolo"
   ]
  },
  {
   "cell_type": "code",
   "execution_count": 2,
   "metadata": {},
   "outputs": [
    {
     "data": {
      "text/plain": [
       "['Image',\n",
       " 'Input',\n",
       " 'K',\n",
       " 'Lambda',\n",
       " 'Model',\n",
       " 'YOLO',\n",
       " 'YOLO_np',\n",
       " '__builtins__',\n",
       " '__cached__',\n",
       " '__doc__',\n",
       " '__file__',\n",
       " '__loader__',\n",
       " '__name__',\n",
       " '__package__',\n",
       " '__spec__',\n",
       " 'argparse',\n",
       " 'colorsys',\n",
       " 'cv2',\n",
       " 'default_config',\n",
       " 'detect_img',\n",
       " 'detect_video',\n",
       " 'draw_boxes',\n",
       " 'get_anchors',\n",
       " 'get_classes',\n",
       " 'get_colors',\n",
       " 'get_yolo2_inference_model',\n",
       " 'get_yolo2_model',\n",
       " 'get_yolo3_inference_model',\n",
       " 'get_yolo3_model',\n",
       " 'load_model',\n",
       " 'multi_gpu_model',\n",
       " 'np',\n",
       " 'os',\n",
       " 'preprocess_image',\n",
       " 'sparsity',\n",
       " 'sys',\n",
       " 'tf',\n",
       " 'time',\n",
       " 'timer',\n",
       " 'yolo2_postprocess_np',\n",
       " 'yolo3_postprocess_np']"
      ]
     },
     "execution_count": 2,
     "metadata": {},
     "output_type": "execute_result"
    }
   ],
   "source": [
    "dir(yolo)"
   ]
  }
 ],
 "metadata": {
  "kernelspec": {
   "display_name": "Python 3",
   "language": "python",
   "name": "python3"
  },
  "language_info": {
   "codemirror_mode": {
    "name": "ipython",
    "version": 3
   },
   "file_extension": ".py",
   "mimetype": "text/x-python",
   "name": "python",
   "nbconvert_exporter": "python",
   "pygments_lexer": "ipython3",
   "version": "3.8.2"
  }
 },
 "nbformat": 4,
 "nbformat_minor": 2
}
