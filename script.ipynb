{
 "cells": [
  {
   "cell_type": "code",
   "execution_count": null,
   "metadata": {
    "scrolled": true
   },
   "outputs": [],
   "source": [
    "# add YOLO submodules as modules\n",
    "import sys\n",
    "import pathlib\n",
    "sys.path.append(f\"{pathlib.Path().absolute()}/YOLO\")\n",
    "\n",
    "# import yolo\n",
    "from yolo import *\n",
    "\n",
    "# change cwd to YOLO\n",
    "import os\n",
    "os.chdir('YOLO')"
   ]
  },
  {
   "cell_type": "code",
   "execution_count": null,
   "metadata": {
    "scrolled": true
   },
   "outputs": [],
   "source": [
    "# Model Initialization\n",
    "YOLO_model = YOLO()\n",
    "\n",
    "# Model Prediction returns classes for which number 2 stands for car\n",
    "ENUM_CAR_CLASS = 2\n",
    "\n",
    "# Model return rectangle coordinates, that represents area, where object is located\n",
    "# We use this constant to determine if this area is small enough to be ignored\n",
    "ERROR_DEVIATION = 0.2"
   ]
  },
  {
   "cell_type": "markdown",
   "metadata": {},
   "source": [
    "# Car Detection"
   ]
  },
  {
   "cell_type": "code",
   "execution_count": null,
   "metadata": {},
   "outputs": [],
   "source": [
    "def detect_car(path):\n",
    "    # 1. Open Image\n",
    "    image = Image.open(path)\n",
    "    \n",
    "    # 2. Preprocessing \n",
    "    image_data = preprocess_image(image, YOLO_model.model_image_size)\n",
    "\n",
    "    # prepare origin image shape, (height, width) format\n",
    "    image_shape = np.array([image.size[1], image.size[0]])\n",
    "    image_shape = np.expand_dims(image_shape, 0)\n",
    "\n",
    "    # 3. Prediction\n",
    "    boxes, classes, scores = YOLO_model.predict(image_data, image_shape)\n",
    "    \n",
    "    # 4. Check if car is in the detected objects\n",
    "    for i in range(len(classes)):\n",
    "        if classes[i] == ENUM_CAR_CLASS:\n",
    "            # 4.1. If car is detected check for box area\n",
    "            box = boxes[i]\n",
    "            area = abs((box[2] - box[0]) * (box[3] - box[1]))\n",
    "            \n",
    "            # 4.2. Normalize evaluated area\n",
    "            area = area/(image_shape[0][0]*image_shape[0][1])\n",
    "\n",
    "            # 4.3. If box area is too small, we can ignore it\n",
    "            if area > ERROR_DEVIATION:\n",
    "                return True\n",
    "    return False"
   ]
  }
 ],
 "metadata": {
  "kernelspec": {
   "display_name": "Python 3",
   "language": "python",
   "name": "python3"
  },
  "language_info": {
   "codemirror_mode": {
    "name": "ipython",
    "version": 3
   },
   "file_extension": ".py",
   "mimetype": "text/x-python",
   "name": "python",
   "nbconvert_exporter": "python",
   "pygments_lexer": "ipython3",
   "version": "3.8.2"
  }
 },
 "nbformat": 4,
 "nbformat_minor": 2
}
