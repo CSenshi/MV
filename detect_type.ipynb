{
 "cells": [
  {
   "cell_type": "markdown",
   "metadata": {},
   "source": [
    "# Car Doors Type Classification"
   ]
  },
  {
   "cell_type": "markdown",
   "metadata": {},
   "source": [
    "## Part 1: Data Manipulation"
   ]
  },
  {
   "cell_type": "markdown",
   "metadata": {},
   "source": [
    "### 1.1. Imports"
   ]
  },
  {
   "cell_type": "code",
   "execution_count": 1,
   "metadata": {},
   "outputs": [],
   "source": [
    "# must have imports\n",
    "import pandas as pd\n",
    "import numpy as np\n",
    "from skimage import io, transform\n",
    "\n",
    "# Torch\n",
    "import torch\n",
    "import torch.nn as nn\n",
    "import torch.optim as optim\n",
    "from torch.optim import lr_scheduler\n",
    "from torch.utils.data import Dataset, DataLoader\n",
    "from torchvision import transforms, utils,models\n",
    "from torchsummary import summary\n",
    "\n",
    "# Utility imports\n",
    "import os\n",
    "import time\n",
    "import copy"
   ]
  },
  {
   "cell_type": "markdown",
   "metadata": {},
   "source": [
    "### 1.2. Constants"
   ]
  },
  {
   "cell_type": "code",
   "execution_count": 2,
   "metadata": {},
   "outputs": [],
   "source": [
    "# Images Path\n",
    "imgs_dir = 'result_data/images'\n",
    "\n",
    "# CSV Path\n",
    "csv_path = 'data/final.csv'\n",
    "mod_csv_path = 'result_data/final.csv'\n",
    "\n",
    "# Exterior/Interior strings\n",
    "EXTERIOR = 'exterior'\n",
    "INTERIOR = 'interior'\n",
    "\n",
    "# Torch model's path\n",
    "model_path = 'models/model_doors_type.pt'"
   ]
  },
  {
   "cell_type": "markdown",
   "metadata": {},
   "source": [
    "### 1.3. Loading data from csv file"
   ]
  },
  {
   "cell_type": "code",
   "execution_count": 3,
   "metadata": {
    "scrolled": false
   },
   "outputs": [
    {
     "data": {
      "text/html": [
       "<div>\n",
       "<style scoped>\n",
       "    .dataframe tbody tr th:only-of-type {\n",
       "        vertical-align: middle;\n",
       "    }\n",
       "\n",
       "    .dataframe tbody tr th {\n",
       "        vertical-align: top;\n",
       "    }\n",
       "\n",
       "    .dataframe thead th {\n",
       "        text-align: right;\n",
       "    }\n",
       "</style>\n",
       "<table border=\"1\" class=\"dataframe\">\n",
       "  <thead>\n",
       "    <tr style=\"text-align: right;\">\n",
       "      <th></th>\n",
       "      <th>ID</th>\n",
       "      <th>Manufacturer</th>\n",
       "      <th>Model</th>\n",
       "      <th>Category</th>\n",
       "      <th>Mileage</th>\n",
       "      <th>Gear box type</th>\n",
       "      <th>Doors</th>\n",
       "      <th>Wheel</th>\n",
       "      <th>Color</th>\n",
       "      <th>Interior color</th>\n",
       "      <th>VIN</th>\n",
       "      <th>Leather interior</th>\n",
       "      <th>Price</th>\n",
       "      <th>Customs</th>\n",
       "    </tr>\n",
       "  </thead>\n",
       "  <tbody>\n",
       "    <tr>\n",
       "      <th>1</th>\n",
       "      <td>45788844</td>\n",
       "      <td>TOYOTA</td>\n",
       "      <td>RAV 4</td>\n",
       "      <td>Jeep</td>\n",
       "      <td>30402 km</td>\n",
       "      <td>Variator</td>\n",
       "      <td>4/5</td>\n",
       "      <td>Left wheel</td>\n",
       "      <td>Blue</td>\n",
       "      <td>Black</td>\n",
       "      <td>NaN</td>\n",
       "      <td>0</td>\n",
       "      <td>15000</td>\n",
       "      <td>518.0</td>\n",
       "    </tr>\n",
       "    <tr>\n",
       "      <th>2</th>\n",
       "      <td>45653468</td>\n",
       "      <td>HONDA</td>\n",
       "      <td>Insight</td>\n",
       "      <td>Hatchback</td>\n",
       "      <td>210758 km</td>\n",
       "      <td>Automatic</td>\n",
       "      <td>4/5</td>\n",
       "      <td>Left wheel</td>\n",
       "      <td>Silver</td>\n",
       "      <td>NaN</td>\n",
       "      <td>JHMZE2H57AS029004</td>\n",
       "      <td>1</td>\n",
       "      <td>800</td>\n",
       "      <td>574.0</td>\n",
       "    </tr>\n",
       "    <tr>\n",
       "      <th>3</th>\n",
       "      <td>45731431</td>\n",
       "      <td>KIA</td>\n",
       "      <td>Optima</td>\n",
       "      <td>Sedan</td>\n",
       "      <td>131040 km</td>\n",
       "      <td>Tiptronic</td>\n",
       "      <td>4/5</td>\n",
       "      <td>Left wheel</td>\n",
       "      <td>White</td>\n",
       "      <td>Black</td>\n",
       "      <td>KNAGM4AD8D5052655</td>\n",
       "      <td>0</td>\n",
       "      <td>5500</td>\n",
       "      <td>751.0</td>\n",
       "    </tr>\n",
       "    <tr>\n",
       "      <th>4</th>\n",
       "      <td>45771182</td>\n",
       "      <td>LEXUS</td>\n",
       "      <td>ES 300</td>\n",
       "      <td>Sedan</td>\n",
       "      <td>135500 km</td>\n",
       "      <td>Tiptronic</td>\n",
       "      <td>4/5</td>\n",
       "      <td>Left wheel</td>\n",
       "      <td>White</td>\n",
       "      <td>Black</td>\n",
       "      <td>NaN</td>\n",
       "      <td>1</td>\n",
       "      <td>13500</td>\n",
       "      <td>NaN</td>\n",
       "    </tr>\n",
       "    <tr>\n",
       "      <th>5</th>\n",
       "      <td>45761498</td>\n",
       "      <td>TOYOTA</td>\n",
       "      <td>Prius</td>\n",
       "      <td>Hatchback</td>\n",
       "      <td>226000 km</td>\n",
       "      <td>Automatic</td>\n",
       "      <td>4/5</td>\n",
       "      <td>Left wheel</td>\n",
       "      <td>Blue</td>\n",
       "      <td>Beige</td>\n",
       "      <td>NaN</td>\n",
       "      <td>1</td>\n",
       "      <td>2980</td>\n",
       "      <td>761.0</td>\n",
       "    </tr>\n",
       "    <tr>\n",
       "      <th>...</th>\n",
       "      <td>...</td>\n",
       "      <td>...</td>\n",
       "      <td>...</td>\n",
       "      <td>...</td>\n",
       "      <td>...</td>\n",
       "      <td>...</td>\n",
       "      <td>...</td>\n",
       "      <td>...</td>\n",
       "      <td>...</td>\n",
       "      <td>...</td>\n",
       "      <td>...</td>\n",
       "      <td>...</td>\n",
       "      <td>...</td>\n",
       "      <td>...</td>\n",
       "    </tr>\n",
       "    <tr>\n",
       "      <th>85932</th>\n",
       "      <td>40988107</td>\n",
       "      <td>MITSUBISHI</td>\n",
       "      <td>Pajero Sport</td>\n",
       "      <td>Jeep</td>\n",
       "      <td>0  km</td>\n",
       "      <td>Automatic</td>\n",
       "      <td>4/5</td>\n",
       "      <td>Left wheel</td>\n",
       "      <td>White</td>\n",
       "      <td>Black</td>\n",
       "      <td>NaN</td>\n",
       "      <td>1</td>\n",
       "      <td>31200</td>\n",
       "      <td>NaN</td>\n",
       "    </tr>\n",
       "    <tr>\n",
       "      <th>85933</th>\n",
       "      <td>43245646</td>\n",
       "      <td>JEEP</td>\n",
       "      <td>Wrangler rubicon unlimit</td>\n",
       "      <td>Jeep</td>\n",
       "      <td>0  km</td>\n",
       "      <td>Automatic</td>\n",
       "      <td>4/5</td>\n",
       "      <td>Left wheel</td>\n",
       "      <td>Grey</td>\n",
       "      <td>Black</td>\n",
       "      <td>NaN</td>\n",
       "      <td>0</td>\n",
       "      <td>Price</td>\n",
       "      <td>NaN</td>\n",
       "    </tr>\n",
       "    <tr>\n",
       "      <th>85934</th>\n",
       "      <td>39483245</td>\n",
       "      <td>JEEP</td>\n",
       "      <td>Grand Cherokee Laredo</td>\n",
       "      <td>Jeep</td>\n",
       "      <td>0  km</td>\n",
       "      <td>Automatic</td>\n",
       "      <td>4/5</td>\n",
       "      <td>Left wheel</td>\n",
       "      <td>Grey</td>\n",
       "      <td>Black</td>\n",
       "      <td>NaN</td>\n",
       "      <td>0</td>\n",
       "      <td>Price</td>\n",
       "      <td>NaN</td>\n",
       "    </tr>\n",
       "    <tr>\n",
       "      <th>85935</th>\n",
       "      <td>32774020</td>\n",
       "      <td>FIAT</td>\n",
       "      <td>500 Abarth</td>\n",
       "      <td>Hatchback</td>\n",
       "      <td>0  km</td>\n",
       "      <td>Automatic</td>\n",
       "      <td>2/3</td>\n",
       "      <td>Left wheel</td>\n",
       "      <td>White</td>\n",
       "      <td>Black</td>\n",
       "      <td>NaN</td>\n",
       "      <td>0</td>\n",
       "      <td>Price</td>\n",
       "      <td>NaN</td>\n",
       "    </tr>\n",
       "    <tr>\n",
       "      <th>85936</th>\n",
       "      <td>30709464</td>\n",
       "      <td>FIAT</td>\n",
       "      <td>500</td>\n",
       "      <td>Hatchback</td>\n",
       "      <td>0  km</td>\n",
       "      <td>Automatic</td>\n",
       "      <td>2/3</td>\n",
       "      <td>Left wheel</td>\n",
       "      <td>Sky blue</td>\n",
       "      <td>Grey</td>\n",
       "      <td>NaN</td>\n",
       "      <td>0</td>\n",
       "      <td>Price</td>\n",
       "      <td>NaN</td>\n",
       "    </tr>\n",
       "  </tbody>\n",
       "</table>\n",
       "<p>84031 rows × 14 columns</p>\n",
       "</div>"
      ],
      "text/plain": [
       "             ID Manufacturer                     Model   Category    Mileage  \\\n",
       "1      45788844       TOYOTA                     RAV 4       Jeep   30402 km   \n",
       "2      45653468        HONDA                   Insight  Hatchback  210758 km   \n",
       "3      45731431          KIA                    Optima      Sedan  131040 km   \n",
       "4      45771182        LEXUS                    ES 300      Sedan  135500 km   \n",
       "5      45761498       TOYOTA                     Prius  Hatchback  226000 km   \n",
       "...         ...          ...                       ...        ...        ...   \n",
       "85932  40988107   MITSUBISHI              Pajero Sport       Jeep      0  km   \n",
       "85933  43245646         JEEP  Wrangler rubicon unlimit       Jeep      0  km   \n",
       "85934  39483245         JEEP     Grand Cherokee Laredo       Jeep      0  km   \n",
       "85935  32774020         FIAT                500 Abarth  Hatchback      0  km   \n",
       "85936  30709464         FIAT                       500  Hatchback      0  km   \n",
       "\n",
       "      Gear box type Doors       Wheel     Color Interior color  \\\n",
       "1          Variator   4/5  Left wheel      Blue          Black   \n",
       "2         Automatic   4/5  Left wheel    Silver            NaN   \n",
       "3         Tiptronic   4/5  Left wheel     White          Black   \n",
       "4         Tiptronic   4/5  Left wheel     White          Black   \n",
       "5         Automatic   4/5  Left wheel      Blue          Beige   \n",
       "...             ...   ...         ...       ...            ...   \n",
       "85932     Automatic   4/5  Left wheel     White          Black   \n",
       "85933     Automatic   4/5  Left wheel      Grey          Black   \n",
       "85934     Automatic   4/5  Left wheel      Grey          Black   \n",
       "85935     Automatic   2/3  Left wheel     White          Black   \n",
       "85936     Automatic   2/3  Left wheel  Sky blue           Grey   \n",
       "\n",
       "                     VIN  Leather interior  Price  Customs  \n",
       "1                    NaN                 0  15000    518.0  \n",
       "2      JHMZE2H57AS029004                 1    800    574.0  \n",
       "3      KNAGM4AD8D5052655                 0   5500    751.0  \n",
       "4                    NaN                 1  13500      NaN  \n",
       "5                    NaN                 1   2980    761.0  \n",
       "...                  ...               ...    ...      ...  \n",
       "85932                NaN                 1  31200      NaN  \n",
       "85933                NaN                 0  Price      NaN  \n",
       "85934                NaN                 0  Price      NaN  \n",
       "85935                NaN                 0  Price      NaN  \n",
       "85936                NaN                 0  Price      NaN  \n",
       "\n",
       "[84031 rows x 14 columns]"
      ]
     },
     "execution_count": 3,
     "metadata": {},
     "output_type": "execute_result"
    }
   ],
   "source": [
    "data = pd.read_csv(csv_path)\n",
    "data = data[data.Doors.notna()]\n",
    "data"
   ]
  },
  {
   "cell_type": "markdown",
   "metadata": {},
   "source": [
    "### 1.4. Append image path to each record"
   ]
  },
  {
   "cell_type": "markdown",
   "metadata": {},
   "source": [
    "If file is already created it will jump over this part"
   ]
  },
  {
   "cell_type": "code",
   "execution_count": 4,
   "metadata": {},
   "outputs": [],
   "source": [
    "if not os.path.exists(mod_csv_path):\n",
    "    # Create Empty Dataframe from old columns and plus image path\n",
    "    old_columns = list(data.columns)\n",
    "    mod_data = pd.DataFrame(columns=old_columns + ['img_path'])\n",
    "    new_index = 0\n",
    "\n",
    "    # Iterate over all cars and append record to given DF\n",
    "    for index, row in data.iterrows():\n",
    "        imgs_ext_dir = os.path.join(imgs_dir, str(row['ID']), EXTERIOR)\n",
    "        # Check if path to exterior exists\n",
    "        if not os.path.exists(imgs_ext_dir):\n",
    "            continue\n",
    "        for img_rel_path in os.listdir(imgs_ext_dir):\n",
    "            img_abs_path = os.path.join(imgs_ext_dir, img_rel_path)\n",
    "            # If image exists put into dataframe\n",
    "            if os.path.exists(img_abs_path):   \n",
    "                row['img_path'] = img_abs_path\n",
    "                mod_data.loc[new_index] = row\n",
    "                new_index +=1\n",
    "        print(index, new_index)\n",
    "    mod_data.to_csv(mod_csv_path)"
   ]
  },
  {
   "cell_type": "code",
   "execution_count": 5,
   "metadata": {},
   "outputs": [
    {
     "data": {
      "text/html": [
       "<div>\n",
       "<style scoped>\n",
       "    .dataframe tbody tr th:only-of-type {\n",
       "        vertical-align: middle;\n",
       "    }\n",
       "\n",
       "    .dataframe tbody tr th {\n",
       "        vertical-align: top;\n",
       "    }\n",
       "\n",
       "    .dataframe thead th {\n",
       "        text-align: right;\n",
       "    }\n",
       "</style>\n",
       "<table border=\"1\" class=\"dataframe\">\n",
       "  <thead>\n",
       "    <tr style=\"text-align: right;\">\n",
       "      <th></th>\n",
       "      <th>Unnamed: 0</th>\n",
       "      <th>ID</th>\n",
       "      <th>Manufacturer</th>\n",
       "      <th>Model</th>\n",
       "      <th>Category</th>\n",
       "      <th>Mileage</th>\n",
       "      <th>Gear box type</th>\n",
       "      <th>Doors</th>\n",
       "      <th>Wheel</th>\n",
       "      <th>Color</th>\n",
       "      <th>Interior color</th>\n",
       "      <th>VIN</th>\n",
       "      <th>Leather interior</th>\n",
       "      <th>Price</th>\n",
       "      <th>Customs</th>\n",
       "      <th>img_path</th>\n",
       "    </tr>\n",
       "  </thead>\n",
       "  <tbody>\n",
       "    <tr>\n",
       "      <th>0</th>\n",
       "      <td>0</td>\n",
       "      <td>45788844</td>\n",
       "      <td>TOYOTA</td>\n",
       "      <td>RAV 4</td>\n",
       "      <td>Jeep</td>\n",
       "      <td>30402 km</td>\n",
       "      <td>Variator</td>\n",
       "      <td>4/5</td>\n",
       "      <td>Left wheel</td>\n",
       "      <td>Blue</td>\n",
       "      <td>Black</td>\n",
       "      <td>NaN</td>\n",
       "      <td>0</td>\n",
       "      <td>15000</td>\n",
       "      <td>518.0</td>\n",
       "      <td>result_data/images/45788844/exterior/4.jpg</td>\n",
       "    </tr>\n",
       "    <tr>\n",
       "      <th>1</th>\n",
       "      <td>1</td>\n",
       "      <td>45788844</td>\n",
       "      <td>TOYOTA</td>\n",
       "      <td>RAV 4</td>\n",
       "      <td>Jeep</td>\n",
       "      <td>30402 km</td>\n",
       "      <td>Variator</td>\n",
       "      <td>4/5</td>\n",
       "      <td>Left wheel</td>\n",
       "      <td>Blue</td>\n",
       "      <td>Black</td>\n",
       "      <td>NaN</td>\n",
       "      <td>0</td>\n",
       "      <td>15000</td>\n",
       "      <td>518.0</td>\n",
       "      <td>result_data/images/45788844/exterior/1.jpg</td>\n",
       "    </tr>\n",
       "    <tr>\n",
       "      <th>2</th>\n",
       "      <td>2</td>\n",
       "      <td>45788844</td>\n",
       "      <td>TOYOTA</td>\n",
       "      <td>RAV 4</td>\n",
       "      <td>Jeep</td>\n",
       "      <td>30402 km</td>\n",
       "      <td>Variator</td>\n",
       "      <td>4/5</td>\n",
       "      <td>Left wheel</td>\n",
       "      <td>Blue</td>\n",
       "      <td>Black</td>\n",
       "      <td>NaN</td>\n",
       "      <td>0</td>\n",
       "      <td>15000</td>\n",
       "      <td>518.0</td>\n",
       "      <td>result_data/images/45788844/exterior/5.jpg</td>\n",
       "    </tr>\n",
       "    <tr>\n",
       "      <th>3</th>\n",
       "      <td>3</td>\n",
       "      <td>45653468</td>\n",
       "      <td>HONDA</td>\n",
       "      <td>Insight</td>\n",
       "      <td>Hatchback</td>\n",
       "      <td>210758 km</td>\n",
       "      <td>Automatic</td>\n",
       "      <td>4/5</td>\n",
       "      <td>Left wheel</td>\n",
       "      <td>Silver</td>\n",
       "      <td>NaN</td>\n",
       "      <td>JHMZE2H57AS029004</td>\n",
       "      <td>1</td>\n",
       "      <td>800</td>\n",
       "      <td>574.0</td>\n",
       "      <td>result_data/images/45653468/exterior/1.jpg</td>\n",
       "    </tr>\n",
       "    <tr>\n",
       "      <th>4</th>\n",
       "      <td>4</td>\n",
       "      <td>45653468</td>\n",
       "      <td>HONDA</td>\n",
       "      <td>Insight</td>\n",
       "      <td>Hatchback</td>\n",
       "      <td>210758 km</td>\n",
       "      <td>Automatic</td>\n",
       "      <td>4/5</td>\n",
       "      <td>Left wheel</td>\n",
       "      <td>Silver</td>\n",
       "      <td>NaN</td>\n",
       "      <td>JHMZE2H57AS029004</td>\n",
       "      <td>1</td>\n",
       "      <td>800</td>\n",
       "      <td>574.0</td>\n",
       "      <td>result_data/images/45653468/exterior/2.jpg</td>\n",
       "    </tr>\n",
       "    <tr>\n",
       "      <th>...</th>\n",
       "      <td>...</td>\n",
       "      <td>...</td>\n",
       "      <td>...</td>\n",
       "      <td>...</td>\n",
       "      <td>...</td>\n",
       "      <td>...</td>\n",
       "      <td>...</td>\n",
       "      <td>...</td>\n",
       "      <td>...</td>\n",
       "      <td>...</td>\n",
       "      <td>...</td>\n",
       "      <td>...</td>\n",
       "      <td>...</td>\n",
       "      <td>...</td>\n",
       "      <td>...</td>\n",
       "      <td>...</td>\n",
       "    </tr>\n",
       "    <tr>\n",
       "      <th>323514</th>\n",
       "      <td>323514</td>\n",
       "      <td>32774020</td>\n",
       "      <td>FIAT</td>\n",
       "      <td>500 Abarth</td>\n",
       "      <td>Hatchback</td>\n",
       "      <td>0  km</td>\n",
       "      <td>Automatic</td>\n",
       "      <td>2/3</td>\n",
       "      <td>Left wheel</td>\n",
       "      <td>White</td>\n",
       "      <td>Black</td>\n",
       "      <td>NaN</td>\n",
       "      <td>0</td>\n",
       "      <td>Price</td>\n",
       "      <td>NaN</td>\n",
       "      <td>result_data/images/32774020/exterior/2.png</td>\n",
       "    </tr>\n",
       "    <tr>\n",
       "      <th>323515</th>\n",
       "      <td>323515</td>\n",
       "      <td>30709464</td>\n",
       "      <td>FIAT</td>\n",
       "      <td>500</td>\n",
       "      <td>Hatchback</td>\n",
       "      <td>0  km</td>\n",
       "      <td>Automatic</td>\n",
       "      <td>2/3</td>\n",
       "      <td>Left wheel</td>\n",
       "      <td>Sky blue</td>\n",
       "      <td>Grey</td>\n",
       "      <td>NaN</td>\n",
       "      <td>0</td>\n",
       "      <td>Price</td>\n",
       "      <td>NaN</td>\n",
       "      <td>result_data/images/30709464/exterior/1.png</td>\n",
       "    </tr>\n",
       "    <tr>\n",
       "      <th>323516</th>\n",
       "      <td>323516</td>\n",
       "      <td>30709464</td>\n",
       "      <td>FIAT</td>\n",
       "      <td>500</td>\n",
       "      <td>Hatchback</td>\n",
       "      <td>0  km</td>\n",
       "      <td>Automatic</td>\n",
       "      <td>2/3</td>\n",
       "      <td>Left wheel</td>\n",
       "      <td>Sky blue</td>\n",
       "      <td>Grey</td>\n",
       "      <td>NaN</td>\n",
       "      <td>0</td>\n",
       "      <td>Price</td>\n",
       "      <td>NaN</td>\n",
       "      <td>result_data/images/30709464/exterior/3.png</td>\n",
       "    </tr>\n",
       "    <tr>\n",
       "      <th>323517</th>\n",
       "      <td>323517</td>\n",
       "      <td>30709464</td>\n",
       "      <td>FIAT</td>\n",
       "      <td>500</td>\n",
       "      <td>Hatchback</td>\n",
       "      <td>0  km</td>\n",
       "      <td>Automatic</td>\n",
       "      <td>2/3</td>\n",
       "      <td>Left wheel</td>\n",
       "      <td>Sky blue</td>\n",
       "      <td>Grey</td>\n",
       "      <td>NaN</td>\n",
       "      <td>0</td>\n",
       "      <td>Price</td>\n",
       "      <td>NaN</td>\n",
       "      <td>result_data/images/30709464/exterior/0.png</td>\n",
       "    </tr>\n",
       "    <tr>\n",
       "      <th>323518</th>\n",
       "      <td>323518</td>\n",
       "      <td>30709464</td>\n",
       "      <td>FIAT</td>\n",
       "      <td>500</td>\n",
       "      <td>Hatchback</td>\n",
       "      <td>0  km</td>\n",
       "      <td>Automatic</td>\n",
       "      <td>2/3</td>\n",
       "      <td>Left wheel</td>\n",
       "      <td>Sky blue</td>\n",
       "      <td>Grey</td>\n",
       "      <td>NaN</td>\n",
       "      <td>0</td>\n",
       "      <td>Price</td>\n",
       "      <td>NaN</td>\n",
       "      <td>result_data/images/30709464/exterior/2.png</td>\n",
       "    </tr>\n",
       "  </tbody>\n",
       "</table>\n",
       "<p>323519 rows × 16 columns</p>\n",
       "</div>"
      ],
      "text/plain": [
       "        Unnamed: 0        ID Manufacturer       Model   Category    Mileage  \\\n",
       "0                0  45788844       TOYOTA       RAV 4       Jeep   30402 km   \n",
       "1                1  45788844       TOYOTA       RAV 4       Jeep   30402 km   \n",
       "2                2  45788844       TOYOTA       RAV 4       Jeep   30402 km   \n",
       "3                3  45653468        HONDA     Insight  Hatchback  210758 km   \n",
       "4                4  45653468        HONDA     Insight  Hatchback  210758 km   \n",
       "...            ...       ...          ...         ...        ...        ...   \n",
       "323514      323514  32774020         FIAT  500 Abarth  Hatchback      0  km   \n",
       "323515      323515  30709464         FIAT         500  Hatchback      0  km   \n",
       "323516      323516  30709464         FIAT         500  Hatchback      0  km   \n",
       "323517      323517  30709464         FIAT         500  Hatchback      0  km   \n",
       "323518      323518  30709464         FIAT         500  Hatchback      0  km   \n",
       "\n",
       "       Gear box type Doors       Wheel     Color Interior color  \\\n",
       "0           Variator   4/5  Left wheel      Blue          Black   \n",
       "1           Variator   4/5  Left wheel      Blue          Black   \n",
       "2           Variator   4/5  Left wheel      Blue          Black   \n",
       "3          Automatic   4/5  Left wheel    Silver            NaN   \n",
       "4          Automatic   4/5  Left wheel    Silver            NaN   \n",
       "...              ...   ...         ...       ...            ...   \n",
       "323514     Automatic   2/3  Left wheel     White          Black   \n",
       "323515     Automatic   2/3  Left wheel  Sky blue           Grey   \n",
       "323516     Automatic   2/3  Left wheel  Sky blue           Grey   \n",
       "323517     Automatic   2/3  Left wheel  Sky blue           Grey   \n",
       "323518     Automatic   2/3  Left wheel  Sky blue           Grey   \n",
       "\n",
       "                      VIN  Leather interior  Price  Customs  \\\n",
       "0                     NaN                 0  15000    518.0   \n",
       "1                     NaN                 0  15000    518.0   \n",
       "2                     NaN                 0  15000    518.0   \n",
       "3       JHMZE2H57AS029004                 1    800    574.0   \n",
       "4       JHMZE2H57AS029004                 1    800    574.0   \n",
       "...                   ...               ...    ...      ...   \n",
       "323514                NaN                 0  Price      NaN   \n",
       "323515                NaN                 0  Price      NaN   \n",
       "323516                NaN                 0  Price      NaN   \n",
       "323517                NaN                 0  Price      NaN   \n",
       "323518                NaN                 0  Price      NaN   \n",
       "\n",
       "                                          img_path  \n",
       "0       result_data/images/45788844/exterior/4.jpg  \n",
       "1       result_data/images/45788844/exterior/1.jpg  \n",
       "2       result_data/images/45788844/exterior/5.jpg  \n",
       "3       result_data/images/45653468/exterior/1.jpg  \n",
       "4       result_data/images/45653468/exterior/2.jpg  \n",
       "...                                            ...  \n",
       "323514  result_data/images/32774020/exterior/2.png  \n",
       "323515  result_data/images/30709464/exterior/1.png  \n",
       "323516  result_data/images/30709464/exterior/3.png  \n",
       "323517  result_data/images/30709464/exterior/0.png  \n",
       "323518  result_data/images/30709464/exterior/2.png  \n",
       "\n",
       "[323519 rows x 16 columns]"
      ]
     },
     "execution_count": 5,
     "metadata": {},
     "output_type": "execute_result"
    }
   ],
   "source": [
    "data = pd.read_csv(mod_csv_path)\n",
    "data"
   ]
  },
  {
   "cell_type": "markdown",
   "metadata": {},
   "source": [
    "### 1.5. View Available Door Types"
   ]
  },
  {
   "cell_type": "code",
   "execution_count": 6,
   "metadata": {},
   "outputs": [
    {
     "data": {
      "text/plain": [
       "array(['4/5', '2/3', '>5'], dtype=object)"
      ]
     },
     "execution_count": 6,
     "metadata": {},
     "output_type": "execute_result"
    }
   ],
   "source": [
    "door_types = data.Doors.unique()\n",
    "door_types"
   ]
  },
  {
   "cell_type": "markdown",
   "metadata": {},
   "source": [
    "As we can see there are 3 types of doors "
   ]
  },
  {
   "cell_type": "markdown",
   "metadata": {},
   "source": [
    "### 1.6 Data Revision"
   ]
  },
  {
   "cell_type": "code",
   "execution_count": 7,
   "metadata": {},
   "outputs": [
    {
     "data": {
      "text/plain": [
       "4/5    311677\n",
       "2/3     10410\n",
       ">5       1432\n",
       "Name: Doors, dtype: int64"
      ]
     },
     "execution_count": 7,
     "metadata": {},
     "output_type": "execute_result"
    }
   ],
   "source": [
    "data.Doors.value_counts()"
   ]
  },
  {
   "cell_type": "markdown",
   "metadata": {},
   "source": [
    "From this result we can see that data is awful... We need to change data so it is more acceptible for our model"
   ]
  },
  {
   "cell_type": "markdown",
   "metadata": {},
   "source": [
    "##### 1.6.0 Declare constants for data extraction"
   ]
  },
  {
   "cell_type": "code",
   "execution_count": 8,
   "metadata": {},
   "outputs": [],
   "source": [
    "TOTAL_DATA = 5000\n",
    "\n",
    "_2DoorsCount = ('2/3', int(TOTAL_DATA * 0.6))\n",
    "_4DoorsCount = ('4/5', int(TOTAL_DATA * 0.3))\n",
    "_5DoorsCount = ('>5' , int(TOTAL_DATA * 0.1))"
   ]
  },
  {
   "cell_type": "markdown",
   "metadata": {},
   "source": [
    "##### 1.6.1 Extract data of given size"
   ]
  },
  {
   "cell_type": "code",
   "execution_count": 9,
   "metadata": {},
   "outputs": [],
   "source": [
    "_2DoorsData = data[data.Doors == _2DoorsCount[0]]\n",
    "_4DoorsData = data[data.Doors == _4DoorsCount[0]]\n",
    "_5DoorsData = data[data.Doors == _5DoorsCount[0]]"
   ]
  },
  {
   "cell_type": "markdown",
   "metadata": {},
   "source": [
    "##### 1.6.2 Resample Data (Shuffle)"
   ]
  },
  {
   "cell_type": "code",
   "execution_count": 10,
   "metadata": {},
   "outputs": [],
   "source": [
    "_2DoorsData = _2DoorsData.sample(frac=1)\n",
    "_4DoorsData = _4DoorsData.sample(frac=1)\n",
    "_5DoorsData = _5DoorsData.sample(frac=1)"
   ]
  },
  {
   "cell_type": "markdown",
   "metadata": {},
   "source": [
    "##### 1.6.3 Extract data of given size"
   ]
  },
  {
   "cell_type": "code",
   "execution_count": 11,
   "metadata": {},
   "outputs": [],
   "source": [
    "_2DoorsData = _2DoorsData[: _2DoorsCount[1]]\n",
    "_4DoorsData = _4DoorsData[: _4DoorsCount[1]]\n",
    "_5DoorsData = _5DoorsData[: _5DoorsCount[1]]"
   ]
  },
  {
   "cell_type": "markdown",
   "metadata": {},
   "source": [
    "##### 1.6.4 Union Datas"
   ]
  },
  {
   "cell_type": "code",
   "execution_count": 12,
   "metadata": {},
   "outputs": [],
   "source": [
    "data = pd.concat([_2DoorsData, _4DoorsData, _5DoorsData])"
   ]
  },
  {
   "cell_type": "markdown",
   "metadata": {},
   "source": [
    "##### 1.6.5 Review new data"
   ]
  },
  {
   "cell_type": "code",
   "execution_count": 13,
   "metadata": {
    "scrolled": true
   },
   "outputs": [
    {
     "data": {
      "text/plain": [
       "2/3    3000\n",
       "4/5    1500\n",
       ">5      500\n",
       "Name: Doors, dtype: int64"
      ]
     },
     "execution_count": 13,
     "metadata": {},
     "output_type": "execute_result"
    }
   ],
   "source": [
    "data.Doors.value_counts()"
   ]
  },
  {
   "cell_type": "markdown",
   "metadata": {},
   "source": [
    "Now it seems to be normal distribution"
   ]
  },
  {
   "cell_type": "markdown",
   "metadata": {},
   "source": [
    "### 1.7 Divide data into train, validation, test"
   ]
  },
  {
   "cell_type": "code",
   "execution_count": 14,
   "metadata": {},
   "outputs": [],
   "source": [
    "# Propotions to be divided by\n",
    "props = [int(.8*len(data)), int(.9*len(data))]\n",
    "\n",
    "# Divide data into 3 parts\n",
    "train, validate, test = np.split(data.sample(frac=1), props)"
   ]
  },
  {
   "cell_type": "markdown",
   "metadata": {},
   "source": [
    "## Part 2: PyTorch DataSet/DataLoader"
   ]
  },
  {
   "cell_type": "markdown",
   "metadata": {},
   "source": [
    "### 2.1 Dataset"
   ]
  },
  {
   "cell_type": "code",
   "execution_count": 15,
   "metadata": {},
   "outputs": [],
   "source": [
    "class CarsDataset(Dataset):\n",
    "    \"\"\" Cars Dataframe Dataset \"\"\"\n",
    "\n",
    "    def __init__(self, df, transform=None):\n",
    "        \"\"\"\n",
    "        Args:\n",
    "            df (pd.Dataframe): Dataframe object for data\n",
    "            root_dir (string): Directory with all the images.\n",
    "            transform (callable, optional): Optional transform to be applied on a sample.\n",
    "        \"\"\"\n",
    "        self.df = df\n",
    "        self.transform = transform\n",
    "    \n",
    "    def __len__(self):\n",
    "         return len(self.df)\n",
    "\n",
    "    def __getitem__(self, idx):\n",
    "        sample = {'doors' : [-1],'image':[]}\n",
    "        if torch.is_tensor(idx):\n",
    "            idx = idx.tolist()\n",
    "            \n",
    "        # Get Doors Type\n",
    "        doors = np.where(door_types == self.df.iloc[idx].Doors)[0]\n",
    "        \n",
    "        # Get all images into array\n",
    "        img_path = str(self.df.iloc[idx]['img_path'])\n",
    "        if not os.path.exists(img_path):\n",
    "            return sample\n",
    "                       \n",
    "        image = io.imread(img_path)\n",
    "        \n",
    "        # Data (Sample) to return\n",
    "        sample = {'doors' : doors,'image': image}\n",
    "        if self.transform:\n",
    "            sample = self.transform(sample)\n",
    "        return sample"
   ]
  },
  {
   "cell_type": "markdown",
   "metadata": {},
   "source": [
    "### 2.2 Transform Clases"
   ]
  },
  {
   "cell_type": "markdown",
   "metadata": {},
   "source": [
    "**Class Rescale**: Scales every picture to given size (by default its 256x256)"
   ]
  },
  {
   "cell_type": "code",
   "execution_count": 16,
   "metadata": {},
   "outputs": [],
   "source": [
    "class Rescale(object):\n",
    "    \"\"\" Rescale the image in a sample to a given size.\n",
    "\n",
    "    Args:\n",
    "        output_size (tuple): Desired output size. Output is matched to output_size. \n",
    "    \"\"\"\n",
    "\n",
    "    def __init__(self, output_size=(224, 224)):\n",
    "        assert isinstance(output_size, tuple)\n",
    "        self.output_size = output_size\n",
    "\n",
    "    def __call__(self, sample):\n",
    "        \"\"\"\n",
    "        Args:\n",
    "            sample(dict): {'doors' : doors,'images':images}\n",
    "                    dictionary that represents doors type of car and array of images\n",
    "        \"\"\"\n",
    "        # Get Image\n",
    "        image = sample['image']\n",
    "        \n",
    "        # Rescale Image\n",
    "        new_h, new_w = self.output_size\n",
    "        new_h, new_w = int(new_h), int(new_w)\n",
    "        image = transform.resize(image, (new_h, new_w))/255\n",
    "        \n",
    "        # Change Sample\n",
    "        sample['image'] = image\n",
    "        return sample"
   ]
  },
  {
   "cell_type": "markdown",
   "metadata": {},
   "source": [
    "**Class ToTensor**: Changes all values to Tensors"
   ]
  },
  {
   "cell_type": "code",
   "execution_count": 17,
   "metadata": {},
   "outputs": [],
   "source": [
    "class ToTensor(object):\n",
    "    \"\"\" Convert ndarrays in sample to Tensors.\"\"\"\n",
    "\n",
    "    def __call__(self, sample):\n",
    "        \"\"\"\n",
    "        Args:\n",
    "            sample(dict): {'doors' : doors,'images':images}\n",
    "                    dictionary that represents doors type of car and array of images\n",
    "        \"\"\"\n",
    "\n",
    "        # 1. Change (i, j, k) to (k, i, j)\n",
    "        #        numpy image: H x W x C\n",
    "        #        torch image: C X H X W\n",
    "        sample['image'] = torch.Tensor(sample['image'].transpose((2, 0, 1)))\n",
    "        \n",
    "        # 2. change to tensor long\n",
    "        sample['doors'] = torch.Tensor(sample['doors']).long()\n",
    "        \n",
    "        # return changed Sample\n",
    "        return sample"
   ]
  },
  {
   "cell_type": "markdown",
   "metadata": {},
   "source": [
    "### 2.3 Create Datasets with Transforms"
   ]
  },
  {
   "cell_type": "code",
   "execution_count": 18,
   "metadata": {},
   "outputs": [],
   "source": [
    "# Create transforms array from Rescale class\n",
    "_transforms = transforms.Compose([Rescale(), ToTensor()])\n",
    "\n",
    "# Load Datasets\n",
    "train_dataset = CarsDataset(train, transform=_transforms)\n",
    "validate_dataset = CarsDataset(validate, transform=_transforms)\n",
    "test_dataset = CarsDataset(test, transform=_transforms)"
   ]
  },
  {
   "cell_type": "markdown",
   "metadata": {},
   "source": [
    "### 2.4 Create Dataloaders from Datasets"
   ]
  },
  {
   "cell_type": "markdown",
   "metadata": {},
   "source": [
    "#### If torch.cuda.is_available(), we set device =”cuda”. This allows the program to be run on GPU or CPU based on the availability of GPU\n",
    "\n",
    "We are setting num_workers as 1 and pin_memory as True in kwargs.num_workers denotes the number of processes that generate batches in parallel. Setting num_workers as a positive integer will turn on multi-process data loading with the specified number of loader worker processes. For data loading, passing pin_memory=True to a DataLoader will automatically put the fetched data Tensors in pinned memory, and thus enables faster data transfer to CUDA-enabled GPUs."
   ]
  },
  {
   "cell_type": "code",
   "execution_count": 19,
   "metadata": {},
   "outputs": [],
   "source": [
    "BATCH_SIZE = 20\n",
    "NUM_WORKERS = 8\n",
    "\n",
    "device = \"cuda\" if torch.cuda.is_available() else \"cpu\"\n",
    "\n",
    "loader_cfg = {'batch_size' : BATCH_SIZE,\n",
    "              'shuffle' : True,\n",
    "              'num_workers' : NUM_WORKERS,\n",
    "              'pin_memory' : device == 'cuda'}"
   ]
  },
  {
   "cell_type": "code",
   "execution_count": 20,
   "metadata": {},
   "outputs": [],
   "source": [
    "train_dataloader = DataLoader(train_dataset, **loader_cfg)\n",
    "validate_dataloader = DataLoader(validate_dataset, **loader_cfg)\n",
    "test_dataloader = DataLoader(test_dataset, **loader_cfg)"
   ]
  },
  {
   "cell_type": "markdown",
   "metadata": {},
   "source": [
    "## Part 3: Model"
   ]
  },
  {
   "cell_type": "code",
   "execution_count": 21,
   "metadata": {},
   "outputs": [],
   "source": [
    "class model_inc(nn.Module):\n",
    "    def __init__(self):\n",
    "        super(model_inc, self).__init__()\n",
    "        self.layers = nn.ModuleList()\n",
    "        \n",
    "        self.layers.append(models.resnet18(pretrained=True))\n",
    "        \n",
    "        self.layers.append(nn.Linear(1000, 256))\n",
    "        self.layers.append(nn.Dropout(0.1)) \n",
    "        \n",
    "        self.layers.append(nn.Linear(256, 64))\n",
    "        self.layers.append(nn.Dropout(0.1))\n",
    "        \n",
    "        self.layers.append(nn.Linear(64, len(data.Doors.unique())))\n",
    "        self.layers.append(nn.Softmax(dim=1))\n",
    "\n",
    "    def forward(self, x):\n",
    "        for layer in self.layers:\n",
    "            x = layer(x)\n",
    "        return x"
   ]
  },
  {
   "cell_type": "code",
   "execution_count": 22,
   "metadata": {},
   "outputs": [
    {
     "name": "stdout",
     "output_type": "stream",
     "text": [
      "----------------------------------------------------------------\n",
      "        Layer (type)               Output Shape         Param #\n",
      "================================================================\n",
      "            Conv2d-1         [20, 64, 112, 112]           9,408\n",
      "       BatchNorm2d-2         [20, 64, 112, 112]             128\n",
      "              ReLU-3         [20, 64, 112, 112]               0\n",
      "         MaxPool2d-4           [20, 64, 56, 56]               0\n",
      "            Conv2d-5           [20, 64, 56, 56]          36,864\n",
      "       BatchNorm2d-6           [20, 64, 56, 56]             128\n",
      "              ReLU-7           [20, 64, 56, 56]               0\n",
      "            Conv2d-8           [20, 64, 56, 56]          36,864\n",
      "       BatchNorm2d-9           [20, 64, 56, 56]             128\n",
      "             ReLU-10           [20, 64, 56, 56]               0\n",
      "       BasicBlock-11           [20, 64, 56, 56]               0\n",
      "           Conv2d-12           [20, 64, 56, 56]          36,864\n",
      "      BatchNorm2d-13           [20, 64, 56, 56]             128\n",
      "             ReLU-14           [20, 64, 56, 56]               0\n",
      "           Conv2d-15           [20, 64, 56, 56]          36,864\n",
      "      BatchNorm2d-16           [20, 64, 56, 56]             128\n",
      "             ReLU-17           [20, 64, 56, 56]               0\n",
      "       BasicBlock-18           [20, 64, 56, 56]               0\n",
      "           Conv2d-19          [20, 128, 28, 28]          73,728\n",
      "      BatchNorm2d-20          [20, 128, 28, 28]             256\n",
      "             ReLU-21          [20, 128, 28, 28]               0\n",
      "           Conv2d-22          [20, 128, 28, 28]         147,456\n",
      "      BatchNorm2d-23          [20, 128, 28, 28]             256\n",
      "           Conv2d-24          [20, 128, 28, 28]           8,192\n",
      "      BatchNorm2d-25          [20, 128, 28, 28]             256\n",
      "             ReLU-26          [20, 128, 28, 28]               0\n",
      "       BasicBlock-27          [20, 128, 28, 28]               0\n",
      "           Conv2d-28          [20, 128, 28, 28]         147,456\n",
      "      BatchNorm2d-29          [20, 128, 28, 28]             256\n",
      "             ReLU-30          [20, 128, 28, 28]               0\n",
      "           Conv2d-31          [20, 128, 28, 28]         147,456\n",
      "      BatchNorm2d-32          [20, 128, 28, 28]             256\n",
      "             ReLU-33          [20, 128, 28, 28]               0\n",
      "       BasicBlock-34          [20, 128, 28, 28]               0\n",
      "           Conv2d-35          [20, 256, 14, 14]         294,912\n",
      "      BatchNorm2d-36          [20, 256, 14, 14]             512\n",
      "             ReLU-37          [20, 256, 14, 14]               0\n",
      "           Conv2d-38          [20, 256, 14, 14]         589,824\n",
      "      BatchNorm2d-39          [20, 256, 14, 14]             512\n",
      "           Conv2d-40          [20, 256, 14, 14]          32,768\n",
      "      BatchNorm2d-41          [20, 256, 14, 14]             512\n",
      "             ReLU-42          [20, 256, 14, 14]               0\n",
      "       BasicBlock-43          [20, 256, 14, 14]               0\n",
      "           Conv2d-44          [20, 256, 14, 14]         589,824\n",
      "      BatchNorm2d-45          [20, 256, 14, 14]             512\n",
      "             ReLU-46          [20, 256, 14, 14]               0\n",
      "           Conv2d-47          [20, 256, 14, 14]         589,824\n",
      "      BatchNorm2d-48          [20, 256, 14, 14]             512\n",
      "             ReLU-49          [20, 256, 14, 14]               0\n",
      "       BasicBlock-50          [20, 256, 14, 14]               0\n",
      "           Conv2d-51            [20, 512, 7, 7]       1,179,648\n",
      "      BatchNorm2d-52            [20, 512, 7, 7]           1,024\n",
      "             ReLU-53            [20, 512, 7, 7]               0\n",
      "           Conv2d-54            [20, 512, 7, 7]       2,359,296\n",
      "      BatchNorm2d-55            [20, 512, 7, 7]           1,024\n",
      "           Conv2d-56            [20, 512, 7, 7]         131,072\n",
      "      BatchNorm2d-57            [20, 512, 7, 7]           1,024\n",
      "             ReLU-58            [20, 512, 7, 7]               0\n",
      "       BasicBlock-59            [20, 512, 7, 7]               0\n",
      "           Conv2d-60            [20, 512, 7, 7]       2,359,296\n",
      "      BatchNorm2d-61            [20, 512, 7, 7]           1,024\n",
      "             ReLU-62            [20, 512, 7, 7]               0\n",
      "           Conv2d-63            [20, 512, 7, 7]       2,359,296\n",
      "      BatchNorm2d-64            [20, 512, 7, 7]           1,024\n",
      "             ReLU-65            [20, 512, 7, 7]               0\n",
      "       BasicBlock-66            [20, 512, 7, 7]               0\n",
      "AdaptiveAvgPool2d-67            [20, 512, 1, 1]               0\n",
      "           Linear-68                 [20, 1000]         513,000\n",
      "           ResNet-69                 [20, 1000]               0\n",
      "           Linear-70                  [20, 256]         256,256\n",
      "          Dropout-71                  [20, 256]               0\n",
      "           Linear-72                   [20, 64]          16,448\n",
      "          Dropout-73                   [20, 64]               0\n",
      "           Linear-74                    [20, 3]             195\n",
      "          Softmax-75                    [20, 3]               0\n",
      "================================================================\n",
      "Total params: 11,962,411\n",
      "Trainable params: 11,962,411\n",
      "Non-trainable params: 0\n",
      "----------------------------------------------------------------\n",
      "Input size (MB): 11.48\n",
      "Forward/backward pass size (MB): 1256.11\n",
      "Params size (MB): 45.63\n",
      "Estimated Total Size (MB): 1313.22\n",
      "----------------------------------------------------------------\n"
     ]
    }
   ],
   "source": [
    "model = model_inc()\n",
    "model.to(device)\n",
    "\n",
    "summary(model, (3, 224, 224), batch_size=BATCH_SIZE, device=device)"
   ]
  },
  {
   "cell_type": "markdown",
   "metadata": {},
   "source": [
    "# Part 4: Train-Validate-Test"
   ]
  },
  {
   "cell_type": "markdown",
   "metadata": {},
   "source": [
    "### 4.0 Log Util Functions"
   ]
  },
  {
   "cell_type": "code",
   "execution_count": 23,
   "metadata": {},
   "outputs": [],
   "source": [
    "LOG = True\n",
    "\n",
    "class CLRS:\n",
    "    HEADER = '\\033[95m'\n",
    "    OKBLUE = '\\033[94m'\n",
    "    OKGREEN = '\\033[92m'\n",
    "    WARNING = '\\033[93m'\n",
    "    FAIL = '\\033[91m'\n",
    "    ENDC = '\\033[0m'\n",
    "    BOLD = '\\033[1m'\n",
    "    UNDERLINE = '\\033[4m'\n",
    "    \n",
    "def log(info):\n",
    "    if LOG:\n",
    "        print(info)\n",
    "\n",
    "def log_loss(phase, loss, accuracy):\n",
    "    log('{}: Loss: {:.3f} Accuracy: {:.3f}'.format(phase.ljust(10), loss, accuracy))    \n",
    "    \n",
    "def log_epoch_start(idx, total):\n",
    "    log(CLRS.BOLD + 'Epoch {}/{}:'.format(idx + 1, total))\n",
    "    log('=' * 40 + CLRS.ENDC)\n",
    "\n",
    "def log_epoch_end(epoch):\n",
    "    log('Epoch completed in {}m {}s'.format(int(epoch // 60), int(epoch % 60)))\n",
    "    log('\\n')\n",
    "    \n",
    "def log_result(time_elapsed, best_acc):\n",
    "    log('Training completed in {}m {}s'.format(int(time_elapsed // 60), int(time_elapsed % 60)))\n",
    "    log('Highest Accuracy: {:.3f}'.format(best_acc))\n",
    "    \n",
    "def log_test_result(time_elapsed, accuracy):\n",
    "    log('Testing Completed in {}m {}s'.format(int(time_elapsed // 60), int(time_elapsed % 60)))\n",
    "    log('Accuracy: {:.3f}'.format(accuracy))"
   ]
  },
  {
   "cell_type": "markdown",
   "metadata": {},
   "source": [
    "### 4.1 Train"
   ]
  },
  {
   "cell_type": "code",
   "execution_count": 24,
   "metadata": {},
   "outputs": [],
   "source": [
    "def train(model, loss_fn, optim_fn, scheduler, dataloader=train_dataloader):\n",
    "    total_loss, total_accuracy = 0.0, 0\n",
    "\n",
    "    # 0. Set Model for training mode\n",
    "    model.train()  \n",
    "    \n",
    "    for sample in dataloader:\n",
    "        # 1. Get Image from sample as input and doors type as label\n",
    "        inputs, labels = sample['image'], sample['doors']\n",
    "        # 2. Send Tensors to given device\n",
    "        inputs, labels = inputs.to(device), labels.to(device)\n",
    "        labels = labels.reshape((labels.shape[0]))\n",
    "        \n",
    "        \n",
    "        # ADD zero the parameter gradients\n",
    "        optim_fn.zero_grad()\n",
    "        \n",
    "        # 3. Set Gradient Calculation ON\n",
    "        #    We are in training phase and we need to backpropagate for current computations\n",
    "        with torch.set_grad_enabled(True):\n",
    "            # 3.1 Get output with current model\n",
    "            outputs = model(inputs) # Model outputs array with corresponding probabilities\n",
    "            preds = torch.argmax(outputs, 1) # Picks one with highest\n",
    "            loss = loss_fn(outputs, labels.reshape((-1,)))\n",
    "\n",
    "            # 3.2 Backward Propagation\n",
    "            loss.backward()\n",
    "            optim_fn.step()\n",
    "\n",
    "        # 4. Evaluate Statistics for current model (loss, accuracy)\n",
    "        total_loss += loss.item() * inputs.size(0)\n",
    "        total_accuracy += torch.sum(preds == labels.data)\n",
    "\n",
    "    # 5. Optimize\n",
    "    scheduler.step()\n",
    "    \n",
    "    # 6. Log current results\n",
    "    total_loss = total_loss / len(dataloader.dataset)\n",
    "    total_accuracy = total_accuracy.double() / len(dataloader.dataset)\n",
    "    log_loss('Train', total_loss, total_accuracy)"
   ]
  },
  {
   "cell_type": "markdown",
   "metadata": {},
   "source": [
    "### 4.2 Validate"
   ]
  },
  {
   "cell_type": "code",
   "execution_count": 25,
   "metadata": {},
   "outputs": [],
   "source": [
    "def validate(model, loss_fn, optim_fn, scheduler, dataloader=validate_dataloader):\n",
    "    total_loss, total_accuracy = 0.0, 0\n",
    "\n",
    "    # 0. Set Model for evaluation mode\n",
    "    model.eval()\n",
    "\n",
    "    for sample in dataloader:\n",
    "        # 1. Get Image from sample as input and doors type as label (Tensors)\n",
    "        inputs, labels = sample['image'], sample['doors']\n",
    "        # 2. Send Tensors to given device\n",
    "        inputs, labels = inputs.to(device), labels.to(device)\n",
    "        labels = labels.reshape((labels.shape[0]))\n",
    "            \n",
    "        # 3. Set Gradient Calculation OFF\n",
    "        #    We are in validating phase and we dont wish to backpropagate for current computations\n",
    "        \n",
    "        # ADD zero the parameter gradients\n",
    "        optim_fn.zero_grad()\n",
    "\n",
    "        with torch.set_grad_enabled(False):\n",
    "            outputs = model(inputs) # Model outputs array with corresponding probabilities\n",
    "            preds = torch.argmax(outputs, 1) # Picks one with highest\n",
    "            loss = loss_fn(outputs, labels.reshape((-1,))) # Evaluate loss \n",
    "\n",
    "        # 4. Evaluate Statistics for current model (loss, accuracy)\n",
    "        total_loss += (loss.item() * inputs.size(0))\n",
    "        total_accuracy += (torch.sum(preds == labels.data))\n",
    "\n",
    "    # 5. Log current results\n",
    "    total_loss = total_loss / len(dataloader.dataset)\n",
    "    total_accuracy = total_accuracy.double() / len(dataloader.dataset)\n",
    "    log_loss('Validation', total_loss, total_accuracy)    \n",
    "\n",
    "    # return result\n",
    "    return (total_accuracy, copy.deepcopy(model.state_dict()))"
   ]
  },
  {
   "cell_type": "markdown",
   "metadata": {},
   "source": [
    "### 4.3 Test"
   ]
  },
  {
   "cell_type": "code",
   "execution_count": 26,
   "metadata": {},
   "outputs": [],
   "source": [
    "def test(model, dataloader=test_dataloader):\n",
    "    start_time = time.time()\n",
    "    total_accuracy = 0\n",
    "    for sample in dataloader:\n",
    "        # 1. Get Image from sample as input and doors type as label (Tensors)\n",
    "        inputs, labels = sample['image'], sample['doors']\n",
    "        # 2. Send Tensors to given device\n",
    "        inputs, labels = inputs.to(device), labels.to(device)\n",
    "        labels = labels.reshape((labels.shape[0]))\n",
    "        # 3. Get model prediction\n",
    "        outputs = model(inputs) # Model outputs array with corresponding probabilities\n",
    "        preds = torch.argmax(outputs, 1) # Picks one with highest\n",
    "        \n",
    "        # 4. Count true predictions\n",
    "        total_accuracy += (torch.sum(preds == labels.data))\n",
    "    total_accuracy = total_accuracy.double() / len(dataloader.dataset)\n",
    "    end_time = time.time()\n",
    "    log_test_result(end_time-start_time, total_accuracy)    "
   ]
  },
  {
   "cell_type": "markdown",
   "metadata": {},
   "source": [
    "# part 5: Model Training"
   ]
  },
  {
   "cell_type": "code",
   "execution_count": 27,
   "metadata": {},
   "outputs": [],
   "source": [
    "def train_model(model, loss_fn, optim_fn, scheduler, num_epochs=25):\n",
    "    # Initilize with starting values\n",
    "    start_time = time.time()\n",
    "    best_weights = copy.deepcopy(model.state_dict())\n",
    "    best_acc = 0\n",
    "    \n",
    "    # Iterate for num_epochs time\n",
    "    for epoch in range(num_epochs):\n",
    "        epoch_start = time.time()\n",
    "        log_epoch_start(epoch, num_epochs) \n",
    "        \n",
    "        # Train -> Validate -> Check for improvements\n",
    "        train(model, loss_fn, optim_fn, scheduler)\n",
    "        res_acc, res_weights = validate(model, loss_fn, optim_fn, scheduler)\n",
    "        if res_acc > best_acc:\n",
    "            best_acc, best_weights = res_acc, res_weights\n",
    "        \n",
    "        epoch_end = time.time()\n",
    "        log_epoch_end(epoch_end-epoch_start)\n",
    "        \n",
    "    # Log final result\n",
    "    time_elapsed = time.time() - start_time\n",
    "    log_result(time_elapsed, best_acc)\n",
    "    \n",
    "    # load best model weights and return trained model\n",
    "    model.load_state_dict(best_weights)\n",
    "    return model"
   ]
  },
  {
   "cell_type": "markdown",
   "metadata": {},
   "source": [
    "### 5.1 Create Model Parameters/Functions"
   ]
  },
  {
   "cell_type": "markdown",
   "metadata": {},
   "source": [
    "#### Model Parameters"
   ]
  },
  {
   "cell_type": "code",
   "execution_count": 28,
   "metadata": {},
   "outputs": [],
   "source": [
    "# Used for optimizer function\n",
    "LR = 0.002\n",
    "MOMENTUM = 0.9\n",
    "\n",
    "# Used for schedulre function\n",
    "STEP_SIZE = 5\n",
    "GAMMA = 0.1\n",
    "\n",
    "# Used for training function\n",
    "EPOCHS = 5"
   ]
  },
  {
   "cell_type": "markdown",
   "metadata": {},
   "source": [
    "#### Loss, Optimze, Schedule functions"
   ]
  },
  {
   "cell_type": "code",
   "execution_count": 29,
   "metadata": {},
   "outputs": [],
   "source": [
    "# Combination of nn.LogSoftmax() and nn.NLLLoss() in one single class.\n",
    "loss_fn = nn.CrossEntropyLoss()\n",
    "\n",
    "# Stochastic Gradient Descent with momentum\n",
    "optim_fn = optim.SGD(model.parameters(), lr=LR, momentum=MOMENTUM)\n",
    "\n",
    "# Decays the learning rate of each parameter group by 0.1 every 7 epochs.\n",
    "scheduler = lr_scheduler.StepLR(optim_fn, step_size=STEP_SIZE, gamma=GAMMA)"
   ]
  },
  {
   "cell_type": "markdown",
   "metadata": {},
   "source": [
    "### 5.2 Train/Validate Phase"
   ]
  },
  {
   "cell_type": "code",
   "execution_count": 30,
   "metadata": {
    "scrolled": true
   },
   "outputs": [
    {
     "name": "stdout",
     "output_type": "stream",
     "text": [
      "\u001b[1mEpoch 1/5:\n",
      "========================================\u001b[0m\n",
      "Train     : Loss: 0.918 Accuracy: 0.632\n",
      "Validation: Loss: 0.873 Accuracy: 0.658\n",
      "Epoch completed in 8m 43s\n",
      "\n",
      "\n",
      "\u001b[1mEpoch 2/5:\n",
      "========================================\u001b[0m\n",
      "Train     : Loss: 0.817 Accuracy: 0.729\n",
      "Validation: Loss: 0.821 Accuracy: 0.726\n",
      "Epoch completed in 8m 20s\n",
      "\n",
      "\n",
      "\u001b[1mEpoch 3/5:\n",
      "========================================\u001b[0m\n",
      "Train     : Loss: 0.759 Accuracy: 0.789\n",
      "Validation: Loss: 0.804 Accuracy: 0.746\n",
      "Epoch completed in 8m 31s\n",
      "\n",
      "\n",
      "\u001b[1mEpoch 4/5:\n",
      "========================================\u001b[0m\n",
      "Train     : Loss: 0.732 Accuracy: 0.818\n",
      "Validation: Loss: 0.829 Accuracy: 0.708\n",
      "Epoch completed in 8m 21s\n",
      "\n",
      "\n",
      "\u001b[1mEpoch 5/5:\n",
      "========================================\u001b[0m\n",
      "Train     : Loss: 0.714 Accuracy: 0.836\n",
      "Validation: Loss: 0.803 Accuracy: 0.748\n",
      "Epoch completed in 8m 44s\n",
      "\n",
      "\n",
      "Training completed in 42m 41s\n",
      "Highest Accuracy: 0.748\n"
     ]
    }
   ],
   "source": [
    "if os.path.exists(model_path):\n",
    "    model = torch.load(PATH)\n",
    "    model.eval()\n",
    "else:\n",
    "    model = train_model(model, loss_fn, optim_fn, scheduler, num_epochs=EPOCHS)\n",
    "    torch.save(model.state_dict(), model_path)"
   ]
  },
  {
   "cell_type": "markdown",
   "metadata": {},
   "source": [
    "### 5.3 Test Phase"
   ]
  },
  {
   "cell_type": "code",
   "execution_count": 31,
   "metadata": {
    "scrolled": true
   },
   "outputs": [
    {
     "name": "stdout",
     "output_type": "stream",
     "text": [
      "Testing Completed in 0m 22s\n",
      "Accuracy: 0.730\n"
     ]
    }
   ],
   "source": [
    "test(model)"
   ]
  }
 ],
 "metadata": {
  "kernelspec": {
   "display_name": "Python 3",
   "language": "python",
   "name": "python3"
  },
  "language_info": {
   "codemirror_mode": {
    "name": "ipython",
    "version": 3
   },
   "file_extension": ".py",
   "mimetype": "text/x-python",
   "name": "python",
   "nbconvert_exporter": "python",
   "pygments_lexer": "ipython3",
   "version": "3.8.2"
  }
 },
 "nbformat": 4,
 "nbformat_minor": 2
}
