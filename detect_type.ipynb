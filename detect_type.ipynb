{
 "cells": [
  {
   "cell_type": "code",
   "execution_count": 1,
   "metadata": {},
   "outputs": [],
   "source": [
    "import os\n",
    "import pandas as pd\n",
    "import numpy as np\n",
    "from skimage import io, transform\n",
    "\n",
    "# Torch utilities\n",
    "import torch\n",
    "from torch import nn\n",
    "from torch.utils.data import Dataset, DataLoader\n",
    "from torchvision import transforms, utils"
   ]
  },
  {
   "cell_type": "markdown",
   "metadata": {},
   "source": [
    "### Constants"
   ]
  },
  {
   "cell_type": "code",
   "execution_count": 2,
   "metadata": {},
   "outputs": [],
   "source": [
    "# Images Path\n",
    "imgs_dir = 'result_data/images'\n",
    "\n",
    "# CSV Path\n",
    "csv_path = 'data/final.csv'\n",
    "\n",
    "# Exterior/Interior strings\n",
    "EXTERIOR = 'exterior'\n",
    "INTERIOR = 'interior'"
   ]
  },
  {
   "cell_type": "markdown",
   "metadata": {},
   "source": [
    "### Load data from csv file"
   ]
  },
  {
   "cell_type": "code",
   "execution_count": 3,
   "metadata": {
    "scrolled": true
   },
   "outputs": [
    {
     "data": {
      "text/html": [
       "<div>\n",
       "<style scoped>\n",
       "    .dataframe tbody tr th:only-of-type {\n",
       "        vertical-align: middle;\n",
       "    }\n",
       "\n",
       "    .dataframe tbody tr th {\n",
       "        vertical-align: top;\n",
       "    }\n",
       "\n",
       "    .dataframe thead th {\n",
       "        text-align: right;\n",
       "    }\n",
       "</style>\n",
       "<table border=\"1\" class=\"dataframe\">\n",
       "  <thead>\n",
       "    <tr style=\"text-align: right;\">\n",
       "      <th></th>\n",
       "      <th>ID</th>\n",
       "      <th>Manufacturer</th>\n",
       "      <th>Model</th>\n",
       "      <th>Category</th>\n",
       "      <th>Mileage</th>\n",
       "      <th>Gear box type</th>\n",
       "      <th>Doors</th>\n",
       "      <th>Wheel</th>\n",
       "      <th>Color</th>\n",
       "      <th>Interior color</th>\n",
       "      <th>VIN</th>\n",
       "      <th>Leather interior</th>\n",
       "      <th>Price</th>\n",
       "      <th>Customs</th>\n",
       "    </tr>\n",
       "  </thead>\n",
       "  <tbody>\n",
       "    <tr>\n",
       "      <th>1</th>\n",
       "      <td>45788844</td>\n",
       "      <td>TOYOTA</td>\n",
       "      <td>RAV 4</td>\n",
       "      <td>Jeep</td>\n",
       "      <td>30402 km</td>\n",
       "      <td>Variator</td>\n",
       "      <td>4/5</td>\n",
       "      <td>Left wheel</td>\n",
       "      <td>Blue</td>\n",
       "      <td>Black</td>\n",
       "      <td>NaN</td>\n",
       "      <td>0</td>\n",
       "      <td>15000</td>\n",
       "      <td>518.0</td>\n",
       "    </tr>\n",
       "    <tr>\n",
       "      <th>2</th>\n",
       "      <td>45653468</td>\n",
       "      <td>HONDA</td>\n",
       "      <td>Insight</td>\n",
       "      <td>Hatchback</td>\n",
       "      <td>210758 km</td>\n",
       "      <td>Automatic</td>\n",
       "      <td>4/5</td>\n",
       "      <td>Left wheel</td>\n",
       "      <td>Silver</td>\n",
       "      <td>NaN</td>\n",
       "      <td>JHMZE2H57AS029004</td>\n",
       "      <td>1</td>\n",
       "      <td>800</td>\n",
       "      <td>574.0</td>\n",
       "    </tr>\n",
       "    <tr>\n",
       "      <th>3</th>\n",
       "      <td>45731431</td>\n",
       "      <td>KIA</td>\n",
       "      <td>Optima</td>\n",
       "      <td>Sedan</td>\n",
       "      <td>131040 km</td>\n",
       "      <td>Tiptronic</td>\n",
       "      <td>4/5</td>\n",
       "      <td>Left wheel</td>\n",
       "      <td>White</td>\n",
       "      <td>Black</td>\n",
       "      <td>KNAGM4AD8D5052655</td>\n",
       "      <td>0</td>\n",
       "      <td>5500</td>\n",
       "      <td>751.0</td>\n",
       "    </tr>\n",
       "    <tr>\n",
       "      <th>4</th>\n",
       "      <td>45771182</td>\n",
       "      <td>LEXUS</td>\n",
       "      <td>ES 300</td>\n",
       "      <td>Sedan</td>\n",
       "      <td>135500 km</td>\n",
       "      <td>Tiptronic</td>\n",
       "      <td>4/5</td>\n",
       "      <td>Left wheel</td>\n",
       "      <td>White</td>\n",
       "      <td>Black</td>\n",
       "      <td>NaN</td>\n",
       "      <td>1</td>\n",
       "      <td>13500</td>\n",
       "      <td>NaN</td>\n",
       "    </tr>\n",
       "    <tr>\n",
       "      <th>5</th>\n",
       "      <td>45761498</td>\n",
       "      <td>TOYOTA</td>\n",
       "      <td>Prius</td>\n",
       "      <td>Hatchback</td>\n",
       "      <td>226000 km</td>\n",
       "      <td>Automatic</td>\n",
       "      <td>4/5</td>\n",
       "      <td>Left wheel</td>\n",
       "      <td>Blue</td>\n",
       "      <td>Beige</td>\n",
       "      <td>NaN</td>\n",
       "      <td>1</td>\n",
       "      <td>2980</td>\n",
       "      <td>761.0</td>\n",
       "    </tr>\n",
       "  </tbody>\n",
       "</table>\n",
       "</div>"
      ],
      "text/plain": [
       "         ID Manufacturer    Model   Category    Mileage Gear box type Doors  \\\n",
       "1  45788844       TOYOTA    RAV 4       Jeep   30402 km      Variator   4/5   \n",
       "2  45653468        HONDA  Insight  Hatchback  210758 km     Automatic   4/5   \n",
       "3  45731431          KIA   Optima      Sedan  131040 km     Tiptronic   4/5   \n",
       "4  45771182        LEXUS   ES 300      Sedan  135500 km     Tiptronic   4/5   \n",
       "5  45761498       TOYOTA    Prius  Hatchback  226000 km     Automatic   4/5   \n",
       "\n",
       "        Wheel   Color Interior color                VIN  Leather interior  \\\n",
       "1  Left wheel    Blue          Black                NaN                 0   \n",
       "2  Left wheel  Silver            NaN  JHMZE2H57AS029004                 1   \n",
       "3  Left wheel   White          Black  KNAGM4AD8D5052655                 0   \n",
       "4  Left wheel   White          Black                NaN                 1   \n",
       "5  Left wheel    Blue          Beige                NaN                 1   \n",
       "\n",
       "   Price  Customs  \n",
       "1  15000    518.0  \n",
       "2    800    574.0  \n",
       "3   5500    751.0  \n",
       "4  13500      NaN  \n",
       "5   2980    761.0  "
      ]
     },
     "execution_count": 3,
     "metadata": {},
     "output_type": "execute_result"
    }
   ],
   "source": [
    "data = pd.read_csv(csv_path)\n",
    "data = data[data.Doors.notna()]\n",
    "data.head()"
   ]
  },
  {
   "cell_type": "markdown",
   "metadata": {},
   "source": [
    "### Door Types"
   ]
  },
  {
   "cell_type": "code",
   "execution_count": 4,
   "metadata": {},
   "outputs": [
    {
     "data": {
      "text/plain": [
       "array(['4/5', '2/3', '>5'], dtype=object)"
      ]
     },
     "execution_count": 4,
     "metadata": {},
     "output_type": "execute_result"
    }
   ],
   "source": [
    "door_types = data.Doors.unique()\n",
    "door_types"
   ]
  },
  {
   "cell_type": "markdown",
   "metadata": {},
   "source": [
    "As we can see there are 3 types of doors "
   ]
  },
  {
   "cell_type": "markdown",
   "metadata": {},
   "source": [
    "### Divide data into train, validation, test"
   ]
  },
  {
   "cell_type": "code",
   "execution_count": 5,
   "metadata": {},
   "outputs": [],
   "source": [
    "# Propotions to be divided by\n",
    "props = [int(.7*len(data)), int(.85*len(data))]\n",
    "\n",
    "# Divide data into 3 parts\n",
    "train, validate, test = np.split(data.sample(frac=1), props)"
   ]
  },
  {
   "cell_type": "markdown",
   "metadata": {},
   "source": [
    "# PyTorch DataLoader"
   ]
  },
  {
   "cell_type": "code",
   "execution_count": 6,
   "metadata": {},
   "outputs": [],
   "source": [
    "class CarsDataset(Dataset):\n",
    "    \"\"\"Cars Dataframe Dataset.\"\"\"\n",
    "\n",
    "    def __init__(self, df, root_dir=imgs_dir, transform=None):\n",
    "        \"\"\"\n",
    "        Args:\n",
    "            df (pd.Dataframe): Dataframe object for data\n",
    "            root_dir (string): Directory with all the images.\n",
    "            transform (callable, optional): Optional transform to be applied on a sample.\n",
    "        \"\"\"\n",
    "        self.df = df\n",
    "        self.root_dir = root_dir\n",
    "        self.transform = transform\n",
    "    \n",
    "    def __len__(self):\n",
    "         return len(self.df)\n",
    "\n",
    "    def __getitem__(self, idx):\n",
    "        if torch.is_tensor(idx):\n",
    "            idx = idx.tolist()\n",
    "            \n",
    "        # Get Doors Type\n",
    "        doors = self.df.iloc[idx].Doors\n",
    "        \n",
    "        # Get all images into array\n",
    "        imgs_ext_dir = os.path.join(self.root_dir, str(self.df.iloc[idx, 0]), EXTERIOR)\n",
    "        images = []\n",
    "        for img_rel_path in os.listdir(imgs_ext_dir):\n",
    "            img_abs_path = os.path.join(imgs_ext_dir, img_rel_path)\n",
    "            image = io.imread(img_abs_path)\n",
    "            images.append(image)\n",
    "            \n",
    "        \n",
    "        # Data (Sample) to return\n",
    "        sample = {'doors' : doors,'images':images}\n",
    "        if self.transform:\n",
    "            sample = self.transform(sample)\n",
    "        return sample"
   ]
  },
  {
   "cell_type": "markdown",
   "metadata": {},
   "source": [
    "# Create Transform Classes"
   ]
  },
  {
   "cell_type": "code",
   "execution_count": 7,
   "metadata": {},
   "outputs": [],
   "source": [
    "class Rescale(object):\n",
    "    \"\"\"Rescale the image in a sample to a given size.\n",
    "\n",
    "    Args:\n",
    "        output_size (tuple): Desired output size. Output is matched to output_size. \n",
    "    \"\"\"\n",
    "\n",
    "    def __init__(self, output_size):\n",
    "        assert isinstance(output_size, tuple)\n",
    "        self.output_size = output_size\n",
    "\n",
    "    def __call__(self, sample):\n",
    "        \"\"\"\n",
    "        Args:\n",
    "            sample(dict): {'doors' : doors,'images':images}\n",
    "                    dictionary that represents doors type of car and array of images\n",
    "        \"\"\"\n",
    "        images = []\n",
    "        for image in sample['images']:\n",
    "            new_h, new_w = self.output_size\n",
    "            new_h, new_w = int(new_h), int(new_w)\n",
    "            img = transform.resize(image, (new_h, new_w))\n",
    "            images.append(img)\n",
    "            \n",
    "        sample['images'] = images\n",
    "        return sample"
   ]
  },
  {
   "cell_type": "markdown",
   "metadata": {},
   "source": [
    "### * Datasets"
   ]
  },
  {
   "cell_type": "code",
   "execution_count": 8,
   "metadata": {},
   "outputs": [],
   "source": [
    "# Create transforms array from Rescale class\n",
    "_transforms = transforms.Compose([Rescale((256, 256))])\n",
    "\n",
    "train_dataset = CarsDataset(train, transform=_transforms)\n",
    "validate_dataset = CarsDataset(validate, transform=_transforms)\n",
    "test_dataset = CarsDataset(test, transform=_transforms)"
   ]
  },
  {
   "cell_type": "markdown",
   "metadata": {},
   "source": [
    "### * Dataloaders"
   ]
  },
  {
   "cell_type": "markdown",
   "metadata": {},
   "source": [
    "#### If torch.cuda.is_available(), we set device =”cuda”. This allows the program to be run on GPU or CPU based on the availability of GPU\n",
    "\n",
    "We are setting num_workers as 1 and pin_memory as True in kwargs.num_workers denotes the number of processes that generate batches in parallel. Setting num_workers as a positive integer will turn on multi-process data loading with the specified number of loader worker processes. For data loading, passing pin_memory=True to a DataLoader will automatically put the fetched data Tensors in pinned memory, and thus enables faster data transfer to CUDA-enabled GPUs."
   ]
  },
  {
   "cell_type": "code",
   "execution_count": 9,
   "metadata": {},
   "outputs": [],
   "source": [
    "device = \"cuda\" if torch.cuda.is_available() else \"cpu\"\n",
    "kwargs = {'num_workers': 1, 'pin_memory': True} if device=='cuda' else {}"
   ]
  },
  {
   "cell_type": "code",
   "execution_count": 10,
   "metadata": {},
   "outputs": [],
   "source": [
    "train_dataloader = DataLoader(train_dataset, batch_size=4, shuffle=True, **kwargs)\n",
    "validate_dataset = DataLoader(validate_dataset, batch_size=4, shuffle=True, **kwargs)\n",
    "test_dataset = DataLoader(test_dataset, batch_size=4, shuffle=True, **kwargs)"
   ]
  }
 ],
 "metadata": {
  "kernelspec": {
   "display_name": "Python 3",
   "language": "python",
   "name": "python3"
  },
  "language_info": {
   "codemirror_mode": {
    "name": "ipython",
    "version": 3
   },
   "file_extension": ".py",
   "mimetype": "text/x-python",
   "name": "python",
   "nbconvert_exporter": "python",
   "pygments_lexer": "ipython3",
   "version": "3.8.2"
  }
 },
 "nbformat": 4,
 "nbformat_minor": 2
}
